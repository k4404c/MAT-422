{
  "nbformat": 4,
  "nbformat_minor": 0,
  "metadata": {
    "colab": {
      "provenance": [],
      "authorship_tag": "ABX9TyN1AF4os26XWZ9yGhwgkKq/",
      "include_colab_link": true
    },
    "kernelspec": {
      "name": "python3",
      "display_name": "Python 3"
    },
    "language_info": {
      "name": "python"
    }
  },
  "cells": [
    {
      "cell_type": "markdown",
      "metadata": {
        "id": "view-in-github",
        "colab_type": "text"
      },
      "source": [
        "<a href=\"https://colab.research.google.com/github/k4404c/MAT-422/blob/main/HW1_2.ipynb\" target=\"_parent\"><img src=\"https://colab.research.google.com/assets/colab-badge.svg\" alt=\"Open In Colab\"/></a>"
      ]
    },
    {
      "cell_type": "code",
      "execution_count": null,
      "metadata": {
        "id": "0UyB-N4e1Fkk"
      },
      "outputs": [],
      "source": []
    },
    {
      "cell_type": "markdown",
      "source": [
        "#1.2\n",
        "**Elements of Linear Algebra**\n",
        "\n",
        "important topics:\n",
        "\n",
        "\n",
        "*   Linear Spaces\n",
        "*   Orthoganality\n",
        "*   The Gram-Schmidt Process\n",
        "*   Eigenvalues and Eigenvectors\n",
        "\n",
        "\n"
      ],
      "metadata": {
        "id": "XBBtLsjy1LHU"
      }
    },
    {
      "cell_type": "code",
      "source": [
        "import numpy as np\n",
        "import matplotlib.pyplot as plt\n",
        "import random\n",
        "import math"
      ],
      "metadata": {
        "id": "YojKwCee2h_9"
      },
      "execution_count": 1,
      "outputs": []
    },
    {
      "cell_type": "markdown",
      "source": [
        "\n",
        "**Linear Spaces**\n",
        "\n",
        "*   **linear combination**: $αu_1 + βu_2 = A$\n",
        "*   **linear subspace**: A linear subspace of V is a subset U ⊆ V that is closed under vector addition and multiplication. $u_1 + u_2 ∈ U, and α*u1 ∈ U$\n",
        "*   **span**: $span(w_1, . . . , w_m)$ = set of all linear combinations $∑α_i*w_i$\n",
        "\n",
        "\n",
        "\n",
        "\n",
        "\n",
        "\n"
      ],
      "metadata": {
        "id": "pAvV7v9R3zFg"
      }
    },
    {
      "cell_type": "code",
      "source": [
        "a = np.random.randint(0, 10, [3, 1])\n",
        "b = np.random.randint(0,10,[3,1])\n",
        "\n",
        "α = random.randint(1,10)\n",
        "β = random.randint(1,10)\n",
        "\n",
        "C = np.concatenate((α*a , β*b), axis = 1)\n",
        "print(C)\n"
      ],
      "metadata": {
        "colab": {
          "base_uri": "https://localhost:8080/"
        },
        "id": "6bukcXmX4AiE",
        "outputId": "9de20630-a626-4896-cdab-b036e1b0a9eb"
      },
      "execution_count": 2,
      "outputs": [
        {
          "output_type": "stream",
          "name": "stdout",
          "text": [
            "[[ 2 16]\n",
            " [16  0]\n",
            " [16 20]]\n"
          ]
        }
      ]
    },
    {
      "cell_type": "markdown",
      "source": [
        "* C is a linear combination of a and b\n",
        "* a and b span c\n",
        "\n",
        "\n",
        "* **linear independence**: $∀_i, u_i ∉ span({u_j : j ≠ i}).$ no vectors of a matrix can be written as a linear combination of the other vectors in a matrix. if the determenent of the matrix = 0, the matrix is linearly dependent\n"
      ],
      "metadata": {
        "id": "o0bxzO91_p3x"
      }
    },
    {
      "cell_type": "code",
      "source": [
        "def checkIndependence(matrix):\n",
        "    det = np.linalg.det(matrix)\n",
        "    print({True: \"dependent\", False: \"independent\"} [det == 0])\n",
        "\n",
        "a = [1,0,0]\n",
        "b = [0,1,0]\n",
        "c = [0,0,1]\n",
        "D = np.stack((a,b,c),axis = 1)\n",
        "print(D)\n",
        "checkIndependence(D) #most basic situation, can easily tell independence\n",
        "\n",
        "a = np.random.randint(0, 10, [3, 1])\n",
        "b = np.random.randint(0,10,[3,1])\n",
        "c = np.random.randint(0, 10, [3, 1])\n",
        "D = np.concatenate((a,b,c),axis = 1)\n",
        "print(D)\n",
        "checkIndependence(D)\n",
        "\n",
        "D = np.concatenate((a,b,2*b),axis = 1)\n",
        "print(D)\n",
        "checkIndependence(D)\n"
      ],
      "metadata": {
        "colab": {
          "base_uri": "https://localhost:8080/"
        },
        "id": "CN6wSMm-A7ot",
        "outputId": "d3e72691-140c-4c88-a4c2-510fd2b8b797"
      },
      "execution_count": 3,
      "outputs": [
        {
          "output_type": "stream",
          "name": "stdout",
          "text": [
            "[[1 0 0]\n",
            " [0 1 0]\n",
            " [0 0 1]]\n",
            "independent\n",
            "[[9 0 5]\n",
            " [1 2 5]\n",
            " [1 3 8]]\n",
            "independent\n",
            "[[9 0 0]\n",
            " [1 2 4]\n",
            " [1 3 6]]\n",
            "dependent\n"
          ]
        }
      ]
    },
    {
      "cell_type": "markdown",
      "source": [
        "* **basis**: a linearly independent spanning set of a matrix V is the basis for V.\n",
        "* **dimension**: number of vectors within a matrix\n",
        "\n",
        "**Orthoganality**\n",
        "\n",
        " *  (Norm and Inner Product) $⟨u, v⟩ = u · v = ∑u_i*v_i. ||u|| = √(∑ui^2)$\n",
        "*   orthonoraml: for all i and all j  ≠ i,$⟨u_i, u_j⟩$ = 0, and $||u_i|| = 1$\n",
        "\n",
        "  if the norm of two vecors is 0, they are orthoganol to eachother.\n"
      ],
      "metadata": {
        "id": "Z8JvI0d0D3ty"
      }
    },
    {
      "cell_type": "code",
      "source": [
        "a = [1,2,3]\n",
        "b = [4,5,6]\n",
        "\n",
        "\n",
        "def findNorm(vector):\n",
        "  sum=0\n",
        "  for item in vector:\n",
        "    sum += item**2\n",
        "  return math.sqrt(sum)\n",
        "\n",
        "def findInnerProduct(vector1,vector2):\n",
        "  innerProduct = 0\n",
        "  for i in range(len(vector1)):\n",
        "   innerProduct+= vector1[i] * vector2[i]\n",
        "  return innerProduct\n",
        "\n",
        "print(findNorm(a))\n",
        "print(findInnerProduct(a,b))\n",
        "\n",
        "a = [0,3,4]\n",
        "b = [3,0,0]\n",
        "\n",
        "print(findInnerProduct(a,b))\n"
      ],
      "metadata": {
        "colab": {
          "base_uri": "https://localhost:8080/"
        },
        "id": "NKa3YUKHNCB4",
        "outputId": "bfc7acde-d7aa-43ad-b8e3-58746019e136"
      },
      "execution_count": 4,
      "outputs": [
        {
          "output_type": "stream",
          "name": "stdout",
          "text": [
            "3.7416573867739413\n",
            "32\n",
            "0\n"
          ]
        }
      ]
    },
    {
      "cell_type": "markdown",
      "source": [
        "* **Best Approximate Theorem**: $||v −α u_1||^2 ≥ ||v − v^*||^2$ projection of $v$ onto $u$ is the closest point in $u$ to $v$"
      ],
      "metadata": {
        "id": "oePqqzDUhLtP"
      }
    },
    {
      "cell_type": "code",
      "source": [
        "u = [1.0,3.0]\n",
        "v = [3.0,4.0]\n",
        "\n",
        "vstar = np.multiply((findInnerProduct(v,u)/(findNorm(u))**2),u) #projvu = (<v,u>/||u||^2)*u\n",
        "print(vstar)\n",
        "\n",
        "projvONu = (findNorm(v-vstar))**2\n",
        "print(projvONu)\n",
        "\n",
        "αu = np.multiply(1.2,u)\n",
        "\n",
        "projvONαu = (findNorm(v-αu))**2\n",
        "print(projvONαu)\n",
        "\n",
        "#projvONu < projvONαu"
      ],
      "metadata": {
        "colab": {
          "base_uri": "https://localhost:8080/"
        },
        "id": "vQRwn0Z1lg85",
        "outputId": "a95fa9cc-b21f-4f94-eaee-2a474513bc89"
      },
      "execution_count": 5,
      "outputs": [
        {
          "output_type": "stream",
          "name": "stdout",
          "text": [
            "[1.5 4.5]\n",
            "2.5000000000000004\n",
            "3.4000000000000004\n"
          ]
        }
      ]
    },
    {
      "cell_type": "markdown",
      "source": [
        "**The Gram-Schmidt Process**\n",
        "5 steps:\n",
        "  1. Choose $x̅_1$, normalize : $x̂_1 = {x̅_1\\over||x_1||}$\n",
        "  2. Find vector projection of $x_2$ onto $x_1$ : $proj_{x_1} x_2 = <x_2, x̂_1>x̂_1$\n",
        "  *   $P_1 = <x_2, x̂_1>x̂_1$\n",
        "  3. $x̂_2 = {{x_2 - P_1}\\over{||x_2-P_1||}}$\n",
        "  * $x̂_1 \\perp x̂_2$\n",
        "  4. Find vector projection of $x_3$ onto $span(x̂_1,x̂_2)$ :\n",
        "  * $P_2 = <x_3, x̂_1>x̂_1 + P_1 = <x_3, x̂_2>x̂_2$\n",
        "  5. $x̂_3 = {{x_3 - P_2}\\over{||x_3-P_2||}}$\n",
        "  * $x̂_3 \\perp span(x̂_1,x̂_2)$\n",
        "\n",
        "  * **Repeat steps for larger matrices**\n",
        "\n",
        "\n",
        "\n",
        "\n",
        "\n",
        "\n",
        "\n",
        "\n",
        "\n",
        "\n"
      ],
      "metadata": {
        "id": "abRxtctUp6Cs"
      }
    },
    {
      "cell_type": "markdown",
      "source": [
        "* $q̂_1 = x̂_1$\n",
        "* $q̂_2 = x̂_2$\n",
        "* $q̂_3 = x̂_3$\n",
        "\n",
        "- Q = [$q̂_1, q̂_2, q̂_3$]"
      ],
      "metadata": {
        "id": "neOhE7kUunN-"
      }
    },
    {
      "cell_type": "markdown",
      "source": [
        "* $r_{11} = ||x_1||$\n",
        "* $r_{12} = <x_2, x̂_1>$\n",
        "* $r_{13} = <x_3, x̂_1>$\n",
        "* $r_{22} = ||x_2-p_1||$\n",
        "* $r_{23} = <x_3, x̂_2>$\n",
        "* $r_{33} = ||x_3-p_2||$\n",
        "\n",
        "R = \\begin{bmatrix}\n",
        "    r_{11} & r_{12} & r_{1,3} \\\\\n",
        "    0 & r_{22} & r_{23} & \\\\\n",
        "    0 & 0 & r_{33}\n",
        "  \\end{bmatrix}\n",
        "\\\n",
        "A = QR"
      ],
      "metadata": {
        "id": "0y8ZQOYGu55M"
      }
    },
    {
      "cell_type": "code",
      "source": [
        "x1 = [1.0, 0.0, 1.0]\n",
        "x2 = [0.0, 2.0, 1.0]\n",
        "x3 = [1.0, 2.0, 1.0]\n",
        "\n",
        "A = np.concatenate((np.array(x1).reshape(-1,1),np.array(x2).reshape(-1,1),np.array(x3).reshape(-1,1)), axis = 1)\n",
        "print(A)\n",
        "\n",
        "x1hat =  (np.multiply(1.0/(findNorm(x1)) , x1))\n",
        "\n",
        "\n",
        "p1 = np.multiply(findInnerProduct(x2,x1hat),x1hat)\n",
        "\n",
        "x2hat = np.multiply((1/findNorm(x2-p1)),(x2-p1))\n",
        "\n",
        "p2 = (np.multiply(findInnerProduct(x3,x1hat),x1hat) + np.multiply(findInnerProduct(x3,x2hat),x2hat))\n",
        "\n",
        "x3hat = np.multiply(1/findNorm(x3-p2),(x3-p2))\n",
        "\n",
        "Q = np.stack((x1hat,x2hat,x3hat),axis = 1)\n",
        "print(Q)\n",
        "\n",
        "r11 = findNorm(x1)\n",
        "r12 = findInnerProduct(x2, x1hat)\n",
        "r22 = findNorm(x2 - p1)\n",
        "r13 = findInnerProduct(x3,x1hat)\n",
        "r23 = findInnerProduct(x3,x2hat)\n",
        "r33 = findNorm(x3 - p2)\n",
        "\n",
        "R = np.stack(([r11, 0, 0],[r12,r22,0],[r13,r23,r33]),axis = 1)\n",
        "print(R)\n",
        "\n",
        "QR = np.dot(Q,R)\n",
        "print(QR)\n",
        "\n",
        "print(A-QR) #shows QR is same(basically) as A\n",
        "\n"
      ],
      "metadata": {
        "colab": {
          "base_uri": "https://localhost:8080/"
        },
        "id": "Lyxvi5pcwsgi",
        "outputId": "f3ec7d26-745f-4029-f37f-76b5094651a4"
      },
      "execution_count": 6,
      "outputs": [
        {
          "output_type": "stream",
          "name": "stdout",
          "text": [
            "[[1. 0. 1.]\n",
            " [0. 2. 2.]\n",
            " [1. 1. 1.]]\n",
            "[[ 0.70710678 -0.23570226  0.66666667]\n",
            " [ 0.          0.94280904  0.33333333]\n",
            " [ 0.70710678  0.23570226 -0.66666667]]\n",
            "[[1.41421356 0.70710678 1.41421356]\n",
            " [0.         2.12132034 1.88561808]\n",
            " [0.         0.         0.66666667]]\n",
            "[[ 1.00000000e+00 -2.74498744e-18  1.00000000e+00]\n",
            " [ 0.00000000e+00  2.00000000e+00  2.00000000e+00]\n",
            " [ 1.00000000e+00  1.00000000e+00  1.00000000e+00]]\n",
            "[[0.00000000e+00 2.74498744e-18 0.00000000e+00]\n",
            " [0.00000000e+00 0.00000000e+00 0.00000000e+00]\n",
            " [0.00000000e+00 0.00000000e+00 0.00000000e+00]]\n"
          ]
        }
      ]
    },
    {
      "cell_type": "markdown",
      "source": [
        "**Eigenvalues and Eigenvectors**\n",
        "* Ax = λ x.\\\n",
        "x → eigenvector\n",
        "λ → eigenvalue\\\n",
        "(λ,x) → eigenpair of $A$\\\n",
        "\\\n",
        "$det(A-λI) = 0$\\\n",
        "$x ∈ nullspace(A-λI)$\n",
        "\n",
        "\n",
        "* **Diagonalization**\\\n",
        "$A = XΛX^{-1}$\\\n",
        "$A^n = XΛ^nX^{-1}$\n",
        "\n",
        "$X = [x_1, x_2, ..., x_n]$\\\n",
        "Λ = \\begin{bmatrix}\n",
        "    λ_1 & 0 & 0 & ...\\\\\n",
        "    0 & λ_1 & 0 & ...\\\\\n",
        "    0 & 0 & λ_1 & ...\\\\\n",
        "    ... & ... & ...& λ_n\n",
        "  \\end{bmatrix}\n",
        "  \\\n",
        "  A matrix A is said to be orthogonally diagonalizable if there are an orthogonal matrix $P$ (with $P^{-1} = P^T )$ and a diagonal matrix $D$ such that\n",
        "$A = PDP^T = PDP^{−1}$"
      ],
      "metadata": {
        "id": "z0-wiXmoERLU"
      }
    },
    {
      "cell_type": "code",
      "source": [
        "A = np.stack(([2 , -1], [-1, 2]),axis = -1)\n",
        "A\n",
        "\n",
        "def null_space(A, rcond=None):\n",
        "#source:https://github.com/scipy/scipy/blob/f97ce31736bb3c4a0a0c7db8fde2ee4ebc69e39d/scipy/linalg/decomp_svd.py#L331-L391\n",
        "    u, s, vh = svd(A, full_matrices=True)\n",
        "    M, N = u.shape[0], vh.shape[1]\n",
        "    if rcond is None:\n",
        "        rcond = numpy.finfo(s.dtype).eps * max(M, N)\n",
        "    tol = numpy.amax(s) * rcond\n",
        "    num = numpy.sum(s > tol, dtype=int)\n",
        "    Q = vh[num:,:].T.conj()\n",
        "    return Q\n",
        "\n",
        "eigenvals = np.linalg.eigvals(A)\n",
        "from scipy.linalg import null_space\n",
        "eigenvect1 = null_space(A - eigenvals[0]*np.identity(2))\n",
        "eigenvect2 = null_space(A - eigenvals[1]*np.identity(2))\n",
        "\n",
        "\n",
        "eigenvectors = np.concatenate((eigenvect1, eigenvect2), axis = 1)\n",
        "Xinv = np.linalg.inv(eigenvectors)\n",
        "LAMBDA = np.stack(([eigenvals[0],0],[0,eigenvals[1]]),axis = 1)\n",
        "\n",
        "\n",
        "XlamXinv = np.dot(eigenvectors , (np.dot(LAMBDA,Xinv)))\n",
        "A - XlamXinv #basically 0. shows A = X*lam*X^-1\n",
        "\n",
        "\n",
        "\n"
      ],
      "metadata": {
        "colab": {
          "base_uri": "https://localhost:8080/"
        },
        "id": "E04DDDZlf-Vy",
        "outputId": "b66afc66-0716-475f-d243-a21486bdfbc9"
      },
      "execution_count": 68,
      "outputs": [
        {
          "output_type": "execute_result",
          "data": {
            "text/plain": [
              "array([[ 0.00000000e+00, -1.11022302e-16],\n",
              "       [ 2.22044605e-16,  0.00000000e+00]])"
            ]
          },
          "metadata": {},
          "execution_count": 68
        }
      ]
    }
  ]
}