{
  "nbformat": 4,
  "nbformat_minor": 0,
  "metadata": {
    "colab": {
      "provenance": [],
      "authorship_tag": "ABX9TyMW85WR3z4EMoq9XVuFz/LB",
      "include_colab_link": true
    },
    "kernelspec": {
      "name": "python3",
      "display_name": "Python 3"
    },
    "language_info": {
      "name": "python"
    }
  },
  "cells": [
    {
      "cell_type": "markdown",
      "metadata": {
        "id": "view-in-github",
        "colab_type": "text"
      },
      "source": [
        "<a href=\"https://colab.research.google.com/github/k4404c/MAT-422/blob/main/HW3_7.ipynb\" target=\"_parent\"><img src=\"https://colab.research.google.com/assets/colab-badge.svg\" alt=\"Open In Colab\"/></a>"
      ]
    },
    {
      "cell_type": "markdown",
      "source": [
        "## **3.7 Neural Networks**\n",
        "Important Topics:\n",
        "* Mathematical Formulation\n",
        "* Activation Functions\n",
        "* Cost Function\n",
        "* Backpropagation\n",
        "* Backpropagation Algorithm"
      ],
      "metadata": {
        "id": "SYt3ltt8-Osl"
      }
    },
    {
      "cell_type": "code",
      "source": [
        "import matplotlib.pyplot as plt\n",
        "import numpy as np"
      ],
      "metadata": {
        "id": "6bgP1Ue7-46T"
      },
      "execution_count": 5,
      "outputs": []
    },
    {
      "cell_type": "markdown",
      "source": [
        "#### **Mathematical Formulation**:\n",
        " * The values of layer $l$ are determined from layer $l − 1$, $w^l$ , $b^l$.\n",
        " * the general node in\n",
        "the left-hand layer is labelled $j$ and one in the right-hand layer, layer $l$, is\n",
        "labelled $j′$.\n",
        " * We want to calculate what value goes into the j′th node of the lth\n",
        "layer.\n",
        "* First multiply the value $a^{(l−1)}_j$ in the jth node of the previous, $(l − 1)^{th}$\n",
        ", layer by the parameter $w^{(l)}_\n",
        "{j, j′}$ and then add another parameter $b^{(l)}_\n",
        "{j′}$\n",
        "* Then we\n",
        "add up all of these for every node in layer $l − 1$ . Let:\\\n",
        "$z^{(l)}_\n",
        "{j′} =\n",
        "∑^\n",
        "{J_{l−1}}_\n",
        "{j=1}\n",
        "w^{(l)}_\n",
        "{j, j′} a^{(l−1)}\n",
        "_j + b^{(l)}_\n",
        "{j′}  $\n",
        "* where $J_I$ means the number of nodes in layer $l$. For a given activation function,\n",
        "$σ$ , we end up with the following expression for the values in the next layer:\\\n",
        "$a^{(l)}_\n",
        "{j′} =\n",
        "σ (z^{(l)}_\n",
        "{j′ })$.\\\n",
        "in Matrix form:\\\n",
        "$z^{(l)} = W^{(l)}a^{(l−1)} + b^{(l)}$,\\\n",
        "with the matrix $W^{(l)}$ containing all the multiplicative parameters, i.e. the\n",
        "weights $w^{(l)}_\n",
        "{j, j′} $, and $b^{(l)}$ is the bias. The bias is just the constant in the linear\n",
        "transformation.\\\n",
        "$a^{(l)} =\n",
        "σ\n",
        "(\n",
        "z^{(l)})\n",
        "=\n",
        "σ\n",
        "(\n",
        "W^{(l)}a^{(l−1)} + b^{(l)})\n",
        ". $\n"
      ],
      "metadata": {
        "id": "aFSdmnq4-5IY"
      }
    },
    {
      "cell_type": "markdown",
      "source": [
        "#### **Activation Functions**:\n",
        "* In neural networks, the activation function of a node abstracts the output of\n",
        "that node given an input or set of inputs for specific purposes for example,\n",
        "classification.\n",
        "* **Step Function**\n",
        " * $σ (x) = 0$ if x < 0,\\\n",
        "  $σ (x) = 1$ if x ≥ 0.\n",
        "  * also called the Heaviside step function, or the unit step function.\n",
        "  * often\n",
        "represents a signal that switches on at a specified time and stays switched on\n",
        "indefinite\n",
        " * The step function can be use for classification problems\n",
        "* **ReLU Function**\n",
        " * Positive linear/ReLU function is defined as\\\n",
        "$σ(x) = max(0, x)$\n",
        " * ReLU stands for Rectified Linear Units\n",
        " * The signal either passes through untouched or dies completely.\n",
        " * It was found to enable better training of deeper networks compared\n",
        "to the widely used activation functions.\n",
        " * Rectified linear units, compared to\n",
        "sigmoid function or similar activation functions, allow faster and effective\n",
        "training of deep neural architectures on large and complex datasets\n",
        "* **Sigmoid**\n",
        " * Sigmoid or logistic function\\\n",
        "$σ (x) = \\frac{1}\n",
        "{1 + e^{−x}} $.\n",
        " * The logistic function finds applications in a range of fields, including biomathematics\n",
        " * The logistic sigmoid can be used in the output layer for predicting\n",
        "probability.\n",
        "* **Softmax Function**\n",
        " * The softmax function converts a vector of numbers (an array of $K $values $(z)$\n",
        ") into a vector of probabilities, where the probabilities of each value are proportional to the relative scale of each value in the vector\n",
        " * It is thus a function\n",
        "that turns several numbers into quantities that can be perhaps interpreted\n",
        "as probabilities.\\\n",
        "$\\frac{e^{z_k}}\n",
        "{∑^K_{k=1} e^{z_k}}$\n",
        ".\n",
        " * It is often used in the final, output, layer of a neural network, especially with\n",
        "classification problems."
      ],
      "metadata": {
        "id": "noovJIZ1Cpu2"
      }
    },
    {
      "cell_type": "markdown",
      "source": [
        "#### **Cost Functions**:\n",
        "* In practice, we can use the least squares for a cost function.\n",
        "* Since we will\n",
        "have a set of independent input data $y^n$ (from the training dataset) and\n",
        "corresponding output data $ŷ^n$ or the forecast output. $k$ is the k-th node of the output.\n",
        "* We define the cost function as:\\\n",
        "$J = \\frac{1}{2}∑^N_{n=1}∑^K_{K=1}\n",
        "(ŷ^{(n)}_k − y^{(n)}_k)^2$\n",
        "* For classification problems where only one output, the cost function commonly used for such an output is similar to logistic regression. And this is, for a binary classification $(y^{(n)} = 0, 1)$, the cost function is:\\\n",
        "$J = −∑^N_{n=1}(\n",
        "y^{(n)} ln\n",
        "(\n",
        "ŷ^{(n)})\n",
        "+ (1 − y^{(n)}) ln\n",
        "(\n",
        "1 − ŷ^{(n)}))$\n",
        "* This is related to the cross entropy function.\n"
      ],
      "metadata": {
        "id": "92-aB5GV11XM"
      }
    },
    {
      "cell_type": "markdown",
      "source": [
        "#### **Backpropagation**:\n",
        "* The practice\n",
        "of fine-tuning the weights of a neural network based on the error rate (i.e.\n",
        "loss) obtained in the previous iteration.\n",
        "* We want to minimize the cost function, J , with respect to the parameters,\n",
        "the components of **$W$** and **$b$**\n",
        " * To do that using gradient descent we are going\n",
        "to need the derivatives of $J$ with respect to each of those parameters.\n",
        " * Here\n",
        "we focus the layer $l$ and node $j′$ and node j from layer $l − 1$.\n",
        " * It can be derived that\n",
        " $\\frac{∂ J}\n",
        "{∂ w^{(l)}_\n",
        "{j, j′}}\n",
        "=\n",
        "\\frac{∂ J}\n",
        "{∂ z^{(l)}_\n",
        "{j′}}\n",
        "\\frac{∂ z^{(l)}_\n",
        "{j′}}\n",
        "{∂ w^{(l)}_\n",
        "{j, j′}}\n",
        "=\n",
        "δ ^{(l)}_\n",
        "{j′} a^{(l−1)}_\n",
        "j$ . , $δ ^{(l)}_\n",
        "{j′} =\n",
        "\\frac{∂ J}{\n",
        "∂ z^{(l)}_\n",
        "j}$\n",
        "* Now the derivatives of the cost function, J, to the ws can be written in terms\n",
        "of the\n",
        "δ s which in turn are backpropagated from the network layers that\n",
        "are just to the right, one nearer the output.\n",
        "* The derivatives of the cost\n",
        "function to the bias, b is quite simple:\n",
        "$\\frac{∂ J}{\n",
        "∂ b^{(l)}_\n",
        "{j′}}\n",
        "=\n",
        "δ^{(l)}_\n",
        "{j′} $\n",
        " * It is clear that the derivatives of J is depending on which activation function\n",
        "we use\n",
        "  * If it is ReLU then the derivative is either zero or one. If we use the\n",
        "logistic function then we find that\n",
        "$σ ′(z) =\n",
        "σ (1 −\n",
        "σ )$.\n"
      ],
      "metadata": {
        "id": "E08_Uhig4gbp"
      }
    },
    {
      "cell_type": "markdown",
      "source": [
        "#### **Backpropagation Algorithm**:\n",
        "* We can easily derive the backpropagation algorithm as follows:\n",
        "\n",
        " *  First we initialize weights and biases, typically at random\n",
        " * Then pick\n",
        "input data and input the vector x into the left side of the network, and calculate all the $z_s$, $a_s$, etc.\n",
        " * Finally calculate the output $ŷ$\n",
        "* For example if using the quadratic cost function in one dimension, then:\n",
        " * $δ^{(L)} = \\frac{dg^{(L)}}{\n",
        "dz} |_{z_j^{(L)}}\n",
        "( ŷ − y)$\n",
        " * Continue to the left:\\\n",
        " $δ^ {(l−1)}_\n",
        "j = \\frac{dg^{(l−1)}}\n",
        "{dz} |_{z_j^{(l−1)}}\n",
        "∑_\n",
        "j\n",
        "δ^{(l)}_\n",
        "{j′} w^{(l)}_\n",
        "{j, j′} $\n",
        " * Then update the weights and biases using the following formulas.\\\n",
        " New $w^{(l)}_\n",
        "{j, j′}$ = Old $w^{(l)}_\n",
        "{j, j′} −\n",
        "β\\frac{∂ J}{\n",
        "∂ w^{(l)}_\n",
        "{j, j′}}$\n",
        "= Old $w^{(l)}_\n",
        "{j, j′} −\n",
        "β δ^{(l)}_\n",
        "{j′} a^{(l−1)}_\n",
        "j$\\\n",
        "and\\\n",
        "New $b^{(l)}_\n",
        "{j′}$ = Old $b^{(l)}_\n",
        "{j′} −\n",
        "β \\frac{∂ J}\n",
        "{∂ b^{(l)}_\n",
        "{j′}}\n",
        "$= Old $b^{(l)}_\n",
        "{j′} −\n",
        "β δ^{(l)}\n",
        "_{j′}$ .\n",
        "\n",
        "\n"
      ],
      "metadata": {
        "id": "rnz9VDS6As47"
      }
    },
    {
      "cell_type": "code",
      "source": [
        "import numpy as np\n",
        "from sklearn.datasets import load_breast_cancer\n",
        "from sklearn.model_selection import train_test_split\n",
        "from sklearn.preprocessing import StandardScaler\n",
        "\n",
        "data = load_breast_cancer()\n",
        "X = data.data\n",
        "y = data.target\n",
        "\n",
        "X_train, X_test, y_train, y_test = train_test_split(X, y, test_size=0.3, random_state=44)\n",
        "\n",
        "\n",
        "scaler = StandardScaler()\n",
        "X_train = scaler.fit_transform(X_train)\n",
        "X_test = scaler.transform(X_test)\n",
        "#standardizing to make better for Neural Network\n",
        "\n",
        "import tensorflow as tf\n",
        "from tensorflow import keras\n",
        "\n",
        "model = keras.Sequential([\n",
        "    keras.layers.Input(shape=(X_train.shape[1],)),  # Input layer\n",
        "    keras.layers.Dense(64, activation='relu'),      # 64 neurons , ReLU\n",
        "    keras.layers.Dense(32, activation='relu'),      # 32 neurons , ReLU\n",
        "    keras.layers.Dense(1, activation='sigmoid')     # Output layer 1 neuron , and sigmoid activation\n",
        "])\n",
        "\n",
        "\n",
        "model.compile(optimizer='adam',\n",
        "              loss='binary_crossentropy',\n",
        "              metrics=['accuracy'])\n",
        "\n",
        "\n",
        "history = model.fit(X_train, y_train, epochs=10, batch_size=32, validation_data=(X_test, y_test))\n",
        "test_loss, test_accuracy = model.evaluate(X_test, y_test)\n",
        "print(f'Test Accuracy: {test_accuracy * 100:.2f}%')\n",
        "\n",
        "plt.figure(figsize=(10, 6))\n",
        "plt.plot(history.history['accuracy'], label='Training Accuracy')\n",
        "plt.plot(history.history['val_accuracy'], label='Validation Accuracy')\n",
        "plt.xlabel('Epoch')\n",
        "plt.ylabel('Accuracy')\n",
        "plt.title('Accuracy per Epoch')\n",
        "plt.legend()\n",
        "plt.show()"
      ],
      "metadata": {
        "colab": {
          "base_uri": "https://localhost:8080/",
          "height": 938
        },
        "id": "bcy8nX5oDqnw",
        "outputId": "656ed174-2fff-4be0-86d1-ec563febce33"
      },
      "execution_count": 22,
      "outputs": [
        {
          "output_type": "stream",
          "name": "stdout",
          "text": [
            "Epoch 1/10\n",
            "13/13 [==============================] - 1s 18ms/step - loss: 0.5313 - accuracy: 0.7990 - val_loss: 0.3382 - val_accuracy: 0.9708\n",
            "Epoch 2/10\n",
            "13/13 [==============================] - 0s 6ms/step - loss: 0.2912 - accuracy: 0.9447 - val_loss: 0.2018 - val_accuracy: 0.9766\n",
            "Epoch 3/10\n",
            "13/13 [==============================] - 0s 6ms/step - loss: 0.1883 - accuracy: 0.9573 - val_loss: 0.1433 - val_accuracy: 0.9649\n",
            "Epoch 4/10\n",
            "13/13 [==============================] - 0s 6ms/step - loss: 0.1362 - accuracy: 0.9623 - val_loss: 0.1162 - val_accuracy: 0.9649\n",
            "Epoch 5/10\n",
            "13/13 [==============================] - 0s 7ms/step - loss: 0.1071 - accuracy: 0.9749 - val_loss: 0.1032 - val_accuracy: 0.9649\n",
            "Epoch 6/10\n",
            "13/13 [==============================] - 0s 7ms/step - loss: 0.0889 - accuracy: 0.9824 - val_loss: 0.0967 - val_accuracy: 0.9708\n",
            "Epoch 7/10\n",
            "13/13 [==============================] - 0s 6ms/step - loss: 0.0778 - accuracy: 0.9849 - val_loss: 0.0947 - val_accuracy: 0.9649\n",
            "Epoch 8/10\n",
            "13/13 [==============================] - 0s 5ms/step - loss: 0.0693 - accuracy: 0.9874 - val_loss: 0.0915 - val_accuracy: 0.9649\n",
            "Epoch 9/10\n",
            "13/13 [==============================] - 0s 6ms/step - loss: 0.0631 - accuracy: 0.9874 - val_loss: 0.0913 - val_accuracy: 0.9708\n",
            "Epoch 10/10\n",
            "13/13 [==============================] - 0s 6ms/step - loss: 0.0585 - accuracy: 0.9874 - val_loss: 0.0914 - val_accuracy: 0.9708\n",
            "6/6 [==============================] - 0s 3ms/step - loss: 0.0914 - accuracy: 0.9708\n",
            "Test Accuracy: 97.08%\n"
          ]
        },
        {
          "output_type": "display_data",
          "data": {
            "text/plain": [
              "<Figure size 1000x600 with 1 Axes>"
            ],
            "image/png": "[encoded data removed]"
          },
          "metadata": {}
        }
      ]
    }
  ]
}